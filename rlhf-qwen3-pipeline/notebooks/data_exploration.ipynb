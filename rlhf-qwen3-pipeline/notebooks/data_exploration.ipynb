{
 "cells": [
  {
   "cell_type": "markdown",
   "metadata": {},
   "source": [
    "# Data Exploration\n",
    "\n",
    "In this notebook, we will explore the dataset used for training the RLHF model. We will examine its structure, visualize some samples, and understand the features available for training."
   ]
  },
  {
   "cell_type": "code",
   "execution_count": 1,
   "metadata": {},
   "outputs": [],
   "source": [
    "import pandas as pd\n",
    "import matplotlib.pyplot as plt\n",
    "from datasets import load_dataset\n",
    "\n",
    "# Load the dataset\n",
    "dataset = load_dataset(\"CarperAI/openai_summarize_comparisons\")\n",
    "\n",
    "# Display the dataset structure\n",
    "print(dataset)"
   ]
  },
  {
   "cell_type": "code",
   "execution_count": 2,
   "metadata": {},
   "outputs": [],
   "source": [
    "# Explore the training dataset\n",
    "train_data = dataset[\"train\"]\n",
    "train_data_df = pd.DataFrame(train_data)\n",
    "\n",
    "# Display the first few rows of the training dataset\n",
    "train_data_df.head()"
   ]
  },
  {
   "cell_type": "code",
   "execution_count": 3,
   "metadata": {},
   "outputs": [],
   "source": [
    "# Visualize the distribution of the lengths of prompts and summaries\n",
    "train_data_df['prompt_length'] = train_data_df['prompt'].apply(len)\n",
    "train_data_df['chosen_length'] = train_data_df['chosen'].apply(len)\n",
    "\n",
    "plt.figure(figsize=(12, 6))\n",
    "plt.hist(train_data_df['prompt_length'], bins=50, alpha=0.5, label='Prompt Length')\n",
    "plt.hist(train_data_df['chosen_length'], bins=50, alpha=0.5, label='Chosen Summary Length')\n",
    "plt.title('Distribution of Prompt and Summary Lengths')\n",
    "plt.xlabel('Length')\n",
    "plt.ylabel('Frequency')\n",
    "plt.legend()\n",
    "plt.show()"
   ]
  },
  {
   "cell_type": "code",
   "execution_count": 4,
   "metadata": {},
   "outputs": [],
   "source": [
    "# Check for missing values in the dataset\n",
    "missing_values = train_data_df.isnull().sum()\n",
    "print(missing_values[missing_values > 0])"
   ]
  },
  {
   "cell_type": "code",
   "execution_count": 5,
   "metadata": {},
   "outputs": [],
   "source": [
    "# Sample some random examples from the dataset\n",
    "sampled_data = train_data_df.sample(5)\n",
    "sampled_data[['prompt', 'chosen']]"
   ]
  }
 ],
 "metadata": {
  "kernelspec": {
   "display_name": "Python 3",
   "language": "python",
   "name": "python3"
  },
  "language_info": {
   "codemirror_mode": {
    "name": "ipython",
    "version": 3
   },
   "file_extension": ".py",
   "mimetype": "text/x-python",
   "name": "python",
   "nbconvert_exporter": "python",
   "pygments_lexer": "ipython3",
   "version": "3.8.5"
  }
 },
 "nbformat": 4,
 "nbformat_minor": 4
}